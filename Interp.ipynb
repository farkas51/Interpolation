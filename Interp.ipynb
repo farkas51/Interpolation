{
 "cells": [
  {
   "cell_type": "markdown",
   "metadata": {},
   "source": [
    "## 6. Интерполяция параметрически заданной функции\n",
    "\n",
    "Рассмотрим задачу поиска интерполирующей кривой по точкам\n",
    "$p_1, p_2, \\dots, p_n$, $p_i = (x_i, y_i)$ ($i=1,\\dots,n$).\n",
    "Предположим, что форму этой кривой\n",
    "нельзя описать функцией вида $y=f(x)$. Например, этого нельзя сделать\n",
    "для кривой в форме буквы S и др. (функция была бы неоднозначной).\n",
    "\n",
    "Рассмотрим два набора данных $(i, x_i)$ и $(i, y_i)$ ($i=1,\\dots,n$).\n",
    "Их можно независимо интерполировать функциями $f(t)$, $g(t)$. Тогда кривая,\n",
    "заданная параметрически,\n",
    "$$\n",
    "\\left\\{\n",
    "\\begin{array}{l}\n",
    "x=f(t) \\\\\n",
    "y=g(t)\n",
    "\\end{array}\n",
    "\\right.\n",
    "$$\n",
    "будет интерполировать наши данные.\n",
    "\n",
    "Другой способ – интерполировать данные $(\\sum_{i=1}^{i-1} d_i, x_i)$\n",
    "и $(\\sum_{i=1}^{i-1} d_i, y_i)$ ($i=1,\\dots,n$), где $d_i$ – расстояние между точками\n",
    "$p_i$ и $p_{i+1}$.\n",
    "\n",
    "\n",
    "## Решение.\n",
    "Нарисуем букву S (или любую другую) и измерим координаты $8$ точек $p_i$,\n",
    "лежащих на ней. Интерполируем эти данные обоими способами, описанными выше\n",
    " * кубическим интерполяетом;\n",
    " * кубическим сплайном.\n",
    " \n",
    "Изобразим их и сравним результаты."
   ]
  },
  {
   "cell_type": "markdown",
   "metadata": {},
   "source": [
    "### Начальные данные:"
   ]
  },
  {
   "cell_type": "code",
   "execution_count": 58,
   "metadata": {},
   "outputs": [],
   "source": [
    "import matplotlib.pyplot as plt\n",
    "import numpy as np\n",
    "from scipy import interpolate\n",
    "%matplotlib inline"
   ]
  },
  {
   "cell_type": "markdown",
   "metadata": {},
   "source": [
    "### Постановка:\n",
    "Введем в массив для x и y координаты точек для того, чтобы изобразить на графике букву S."
   ]
  },
  {
   "cell_type": "code",
   "execution_count": 154,
   "metadata": {},
   "outputs": [],
   "source": [
    "x = np.array([2.25, 3, 4.5, 6, 6.75, 6, 4.5, 3, 2.25, 3, 4.5, 6, 6.75])\n",
    "y = np.array([2.5, 1.5, 1, 1.5, 2.75, 4, 4.5, 5, 6.25, 7.5, 8, 7.5, 6])"
   ]
  },
  {
   "cell_type": "markdown",
   "metadata": {},
   "source": [
    "Для построение самого графика требуется добавить еще некоторые массивы. Количество заданных точек и функция для построения нашего графика."
   ]
  },
  {
   "cell_type": "code",
   "execution_count": 155,
   "metadata": {},
   "outputs": [],
   "source": [
    "arr = np.array([1, 2, 3, 4, 5, 6, 7, 8, 9, 10, 11, 12, 13])\n",
    "lnp = np.linspace(1, 13, 500)"
   ]
  },
  {
   "cell_type": "markdown",
   "metadata": {},
   "source": [
    "### Первый способ:\n",
    "Теперь сможем интерполировать заданные нами данные по условию \"Кубическим интерполянтом\""
   ]
  },
  {
   "cell_type": "code",
   "execution_count": 156,
   "metadata": {},
   "outputs": [],
   "source": [
    "q = np.polyfit(arr, x, 3)\n",
    "e = np.polyfit(arr, y, 3)\n",
    "xk = np.polyval(q, lnp)\n",
    "yk = np.polyval(e, lnp)"
   ]
  },
  {
   "cell_type": "markdown",
   "metadata": {},
   "source": [
    "Изобразим это на графике кубическим интерполяетом:"
   ]
  },
  {
   "cell_type": "code",
   "execution_count": 157,
   "metadata": {},
   "outputs": [
    {
     "data": {
      "image/png": "[encoded data removed]",
      "text/plain": [
       "<Figure size 432x288 with 1 Axes>"
      ]
     },
     "metadata": {
      "needs_background": "light"
     },
     "output_type": "display_data"
    }
   ],
   "source": [
    "plt.plot(x, y, 'o', color='tab:red')\n",
    "plt.plot(xk, yk, color=\"tab:green\")\n",
    "plt.axis('equal')\n",
    "pass"
   ]
  },
  {
   "cell_type": "markdown",
   "metadata": {},
   "source": [
    "Выполним интерполяцию кубическим сплайном:"
   ]
  },
  {
   "cell_type": "code",
   "execution_count": 158,
   "metadata": {},
   "outputs": [],
   "source": [
    "q = interpolate.interp1d(arr, x, kind='cubic')\n",
    "e = interpolate.interp1d(arr, y, kind='cubic')\n",
    "xk = q(lnp)\n",
    "yk = e(lnp)"
   ]
  },
  {
   "cell_type": "markdown",
   "metadata": {},
   "source": [
    "Изобразим на графике кубическим сплайном:"
   ]
  },
  {
   "cell_type": "code",
   "execution_count": 159,
   "metadata": {},
   "outputs": [
    {
     "data": {
      "image/png": "[encoded data removed]",
      "text/plain": [
       "<Figure size 432x288 with 1 Axes>"
      ]
     },
     "metadata": {
      "needs_background": "light"
     },
     "output_type": "display_data"
    }
   ],
   "source": [
    "plt.plot(x, y, 'o', color='tab:red')\n",
    "plt.plot(xk, yk, color=\"tab:green\")\n",
    "plt.axis('equal')\n",
    "pass"
   ]
  },
  {
   "cell_type": "markdown",
   "metadata": {},
   "source": [
    "### Второй способ:\n",
    "Интерполируем данные, где $d_i$ – расстояние между точками\n",
    "$p_i$ и $p_{i+1}$."
   ]
  },
  {
   "cell_type": "code",
   "execution_count": 160,
   "metadata": {},
   "outputs": [],
   "source": [
    "di = np.array([])\n",
    "for i in range(len(x)-1):\n",
    "    rast = np.sqrt((x[i + 1] - x[i]) ** 2 + (y[i + 1] - y[i]) ** 2)\n",
    "    di = np.append(di, np.array(rast))"
   ]
  },
  {
   "cell_type": "markdown",
   "metadata": {},
   "source": [
    "Обозначим суммы расстояний между заданными точками $d_i$ и зададим новый linspace по результату данных."
   ]
  },
  {
   "cell_type": "code",
   "execution_count": 161,
   "metadata": {},
   "outputs": [
    {
     "data": {
      "text/plain": [
       "array([ 0.        ,  1.25      ,  2.83113883,  4.41227766,  5.87001563,\n",
       "        7.32775361,  8.90889244, 10.49003127, 11.94776924, 13.40550722,\n",
       "       14.98664605, 16.56778488, 18.24483586])"
      ]
     },
     "execution_count": 161,
     "metadata": {},
     "output_type": "execute_result"
    }
   ],
   "source": [
    "ddi = np.array([])\n",
    "for j in range(len(x)):\n",
    "    summ = 0\n",
    "    for i in range(j):\n",
    "        summ += di[i]\n",
    "    ddi = np.append(ddi, summ)\n",
    "ddi"
   ]
  },
  {
   "cell_type": "markdown",
   "metadata": {},
   "source": [
    "По выведенным данным зададим linspace:"
   ]
  },
  {
   "cell_type": "code",
   "execution_count": 162,
   "metadata": {},
   "outputs": [],
   "source": [
    "lnp = np.linspace(0, 18, 500)"
   ]
  },
  {
   "cell_type": "markdown",
   "metadata": {},
   "source": [
    "По тем же действиям, что и в первом способе, интерполируем данные \"кубическим интерполянтом\":"
   ]
  },
  {
   "cell_type": "code",
   "execution_count": 163,
   "metadata": {},
   "outputs": [],
   "source": [
    "q = np.polyfit(ddi, x, 3)\n",
    "e = np.polyfit(ddi, y, 3)\n",
    "xk = np.polyval(q, lnp)\n",
    "yk = np.polyval(e, lnp)"
   ]
  },
  {
   "cell_type": "markdown",
   "metadata": {},
   "source": [
    "Изобразим на графике кубический интерполянт:"
   ]
  },
  {
   "cell_type": "code",
   "execution_count": 164,
   "metadata": {},
   "outputs": [
    {
     "data": {
      "image/png": "[encoded data removed]",
      "text/plain": [
       "<Figure size 432x288 with 1 Axes>"
      ]
     },
     "metadata": {
      "needs_background": "light"
     },
     "output_type": "display_data"
    }
   ],
   "source": [
    "plt.plot(x, y, 'o', color='tab:red')\n",
    "plt.plot(xk, yk, color=\"tab:green\")\n",
    "plt.axis('equal')\n",
    "pass"
   ]
  },
  {
   "cell_type": "markdown",
   "metadata": {},
   "source": [
    "Выполним интерполяцию кубическим сплайном:"
   ]
  },
  {
   "cell_type": "code",
   "execution_count": 165,
   "metadata": {},
   "outputs": [],
   "source": [
    "q = interpolate.interp1d(ddi, x, kind='cubic')\n",
    "e = interpolate.interp1d(ddi, y, kind='cubic')\n",
    "xk = q(lnp)\n",
    "yk = e(lnp)"
   ]
  },
  {
   "cell_type": "markdown",
   "metadata": {},
   "source": [
    "Изобразим на графике кубическим сплайном:"
   ]
  },
  {
   "cell_type": "code",
   "execution_count": 166,
   "metadata": {},
   "outputs": [
    {
     "data": {
      "image/png": "[encoded data removed]",
      "text/plain": [
       "<Figure size 432x288 with 1 Axes>"
      ]
     },
     "metadata": {
      "needs_background": "light"
     },
     "output_type": "display_data"
    }
   ],
   "source": [
    "plt.plot(x, y, 'o', color='tab:red')\n",
    "plt.plot(xk, yk, color=\"tab:green\")\n",
    "plt.axis('equal')\n",
    "pass"
   ]
  },
  {
   "cell_type": "markdown",
   "metadata": {},
   "source": [
    "## Сравнение полученных результатов:"
   ]
  },
  {
   "cell_type": "markdown",
   "metadata": {},
   "source": [
    "По полученным результатам можно заметить, что эти два способа практически схожи. При выводе графиков на экран мы можем увидеть это. При этом, интерполяции:\n",
    "*Кубический интерполянт* и *Кубический сплайн* имеют разное построение на графике. *Кубический интерполянт* вырисовывает букву S независимо отдаленных от точек. *Кубический сплайн* как раз таки вырисовывает S по заданным точкам на графике.\n",
    "Имеются отличия в конечной точки зарисовки графика в *Кубическом сплайне* во втором случае. В первом случае реализация происходит полноценно."
   ]
  }
 ],
 "metadata": {
  "kernelspec": {
   "display_name": "Python 3",
   "language": "python",
   "name": "python3"
  },
  "language_info": {
   "codemirror_mode": {
    "name": "ipython",
    "version": 3
   },
   "file_extension": ".py",
   "mimetype": "text/x-python",
   "name": "python",
   "nbconvert_exporter": "python",
   "pygments_lexer": "ipython3",
   "version": "3.7.6"
  }
 },
 "nbformat": 4,
 "nbformat_minor": 4
}
